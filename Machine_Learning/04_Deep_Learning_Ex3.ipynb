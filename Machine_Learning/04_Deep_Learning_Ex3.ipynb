{
 "cells": [
  {
   "cell_type": "code",
   "execution_count": 7,
   "metadata": {},
   "outputs": [
    {
     "name": "stdout",
     "output_type": "stream",
     "text": [
      "(2, 2, 1, 3)\n",
      "(1, 2, 2, 3)\n"
     ]
    }
   ],
   "source": [
    "# convolution example\n",
    "import tensorflow as tf\n",
    "import numpy as np\n",
    "\n",
    "# image의 형태\n",
    "# 1장의 이미지는 3차원 형태의 데이터\n",
    "# (이미지의 개수, width, height, color) => 4차원 배열\n",
    "# (1,3,3,1)\n",
    "\n",
    "image= np.array([[[[1],[2],[3]],\n",
    "                  [[4],[5],[6]],\n",
    "                  [[7],[8],[9]]]], dtype = np.float32)\n",
    "\n",
    "# filter 준비 (Weight) \n",
    "# (width, height, color,필터의 개수) => 4차원 배열\n",
    "# (2,2,1,1)\n",
    "weight = np.array([[[[1,-5,10]],\n",
    "                   [[1,-5,10]]],\n",
    "                  [[[1,-5,10]],\n",
    "                   [[1,-5,10]]]])\n",
    "\n",
    "print(weight.shape)\n",
    "\n",
    "# stride 지정 (사실 2차원이면 되는데 image와 filter와의 행렬 연산 때문에 4차원으로 지정함)\n",
    "# (1, stride width, stride height, 1) => 4차원 배열 (0,3번의 1은 dummy 값)\n",
    "# stride = [1,1,1,1]\n",
    "\n",
    "# stride만큼 움직이며 filter와 convolution 계산하고 새로운 image( 결과 layer ) 즉, activation map이 return 됨\n",
    "# 해당 image의 특징을 가지고 있는 layer 생성됨\n",
    "# padding = \"VALID\" : 크기 줄어듦\n",
    "conv2d = tf.nn.conv2d(image, weight, strides=[1,1,1,1], padding = \"VALID\")\n",
    "print(conv2d.shape)\n"
   ]
  },
  {
   "cell_type": "code",
   "execution_count": 28,
   "metadata": {
    "scrolled": true
   },
   "outputs": [
    {
     "name": "stdout",
     "output_type": "stream",
     "text": [
      "Extracting ./data/mnist\\train-images-idx3-ubyte.gz\n",
      "Extracting ./data/mnist\\train-labels-idx1-ubyte.gz\n",
      "Extracting ./data/mnist\\t10k-images-idx3-ubyte.gz\n",
      "Extracting ./data/mnist\\t10k-labels-idx1-ubyte.gz\n"
     ]
    },
    {
     "data": {
      "image/png": "[encoded data removed]",
      "text/plain": [
       "<Figure size 432x288 with 1 Axes>"
      ]
     },
     "metadata": {
      "needs_background": "light"
     },
     "output_type": "display_data"
    },
    {
     "name": "stdout",
     "output_type": "stream",
     "text": [
      "(5, 14, 14, 1)\n"
     ]
    },
    {
     "data": {
      "image/png": "[encoded data removed]",
      "text/plain": [
       "<Figure size 432x288 with 5 Axes>"
      ]
     },
     "metadata": {
      "needs_background": "light"
     },
     "output_type": "display_data"
    }
   ],
   "source": [
    "## CNN\n",
    "## MNIST 예제를 이용해서 하나의 이미지에 대한 Convolution Image 5개를 생성해보자\n",
    "from tensorflow.examples.tutorials.mnist import input_data\n",
    "import tensorflow as tf\n",
    "import matplotlib.pyplot as plt\n",
    "\n",
    "# data loading\n",
    "mnist = input_data.read_data_sets(\"./data/mnist\",\n",
    "                                 one_hot=True)\n",
    "\n",
    "# 학습용 training image 중 2번째 image의 정보를 1차원 형태의 데이터로 얻어옴\n",
    "img = mnist.train.images[1]\n",
    "\n",
    "# 2차원 형태의 데이터로 변환\n",
    "img = img.reshape(28,28)\n",
    "plt.imshow(img, cmap= \"Greys\",interpolation =\"nearest\")\n",
    "plt.show()\n",
    "\n",
    "# 해당 이미지를 convolution 이미지로 변형\n",
    "# 2차원 형태의 img를 4차원 형태의 img로 변환\n",
    "img = img.reshape(-1,28,28,1)\n",
    "\n",
    "# image 준비 완료\n",
    "# ------------------------------------------------------------------------------------------------------\n",
    "# filter 준비\n",
    "# 5개의 filter를 이용, 2x2짜리 filter 이용\n",
    "# 결과 image 크기에 영향을 미치는 2가지 : filter의 가로, 세로와 stride의 개수\n",
    "# filter shape => (2,2,1,5)\n",
    "W = tf.Variable(tf.random_normal([2,2,1,5]), name = \"filter\")\n",
    "# padding = \"SAME\" : 원본 크기 유지\n",
    "\n",
    "conv2d = tf.nn.conv2d(img, W,strides = [1,2,2,1],padding = \"SAME\")\n",
    "\n",
    "# convolution 결과\n",
    "# print(conv2d.shape) => (1, 14, 14, 5) : 14 x 14짜리 image가 5개 생성 됨\n",
    "\n",
    "# 새로 생성된 image를 plt를 이용해서 확인\n",
    "sess = tf.Session()\n",
    "sess.run(tf.global_variables_initializer())\n",
    "conv2d = sess.run(conv2d)\n",
    "\n",
    "# np.swapaxes(배열,바꿀 index1, 바꿀 index2) : 배열의 축을 임의로 변경\n",
    "# (1, 14, 14, 5) => (5, 14, 14, 1)\n",
    "# 반복문을 돌려서 데이터를 편하게 추출하기 위해 축 변경\n",
    "conv2d = np.conv2d = np.swapaxes(conv2d,0,3)\n",
    "print(conv2d.shape) \n",
    "\n",
    "# plt.subplots() : 그림 여러개 그리는 함수\n",
    "\n",
    "# 1행 5열짜리 subplot 생성 : 5개의 그림을 1줄에 그림\n",
    "# fig : subplot 전체 지칭\n",
    "# axes[0]: subplot 시작 ~ fig.axes[4] : subplot 끝 \n",
    "fig,axes = plt.subplots(1,5)\n",
    "\n",
    "for idx, item in enumerate(conv2d):\n",
    "    axes[idx].imshow(item.reshape(14,14),cmap=\"Greys\") # 3차원 배열을 2차원 배열로 변환\n",
    "plt.show()\n",
    "\n",
    "# convolution한 5개의 image(크기가 작아지고 다양해진 image)를 가지고 학습하기 때문에 학습이 더 잘 됨\n",
    "\n",
    "# Convolution만 하면 값 & 크기가 커지기 때문에         => 입력 데이터가 커짐, 시간 오래 걸림\n",
    "# relu 함수를 취해서 0~1.xx의 범위 내로 값을 줄여주고\n",
    "# Pooling(Sampling)으로 크기를 줄이고 특징을 살려줌 \n",
    "\n",
    "# Convolution을 너무 많이 하면 특징이 흐려지기 때문에 적당히!\n",
    "\n"
   ]
  },
  {
   "cell_type": "code",
   "execution_count": 40,
   "metadata": {},
   "outputs": [
    {
     "name": "stdout",
     "output_type": "stream",
     "text": [
      "Extracting ./data/mnist\\train-images-idx3-ubyte.gz\n",
      "Extracting ./data/mnist\\train-labels-idx1-ubyte.gz\n",
      "Extracting ./data/mnist\\t10k-images-idx3-ubyte.gz\n",
      "Extracting ./data/mnist\\t10k-labels-idx1-ubyte.gz\n",
      "(?, 14, 14, 32)\n",
      "(?, 7, 7, 32)\n",
      "(?, 7, 7, 64)\n",
      "(?, 7, 7, 64)\n",
      "Wall time: 840 ms\n"
     ]
    }
   ],
   "source": [
    "%%time\n",
    "## MNIST with CNN\n",
    "from tensorflow.examples.tutorials.mnist import input_data\n",
    "import tensorflow as tf\n",
    "\n",
    "# 0. 그래프 초기화\n",
    "tf.reset_default_graph()\n",
    "\n",
    "# 1. Data Loading & Data 정제\n",
    "mnist = input_data.read_data_sets(\"./data/mnist\",one_hot=True)\n",
    "\n",
    "# 2. placeholder 설정\n",
    "X = tf.placeholder(shape = [None,784], dtype = tf.float32)\n",
    "Y = tf.placeholder(shape = [None,10], dtype = tf.float32)\n",
    "drop_rate = tf.placeholder(dtype = tf.float32)\n",
    "\n",
    "# 3. Convolution \n",
    "# 3-1. Convolution layer 1\n",
    "x_img = tf.reshape(X, [-1,28,28,1])\n",
    "W1 = tf.Variable(tf.random_normal([2,2,1,32]), name= \"filter1\")\n",
    "\n",
    "L1 = tf.nn.conv2d(x_img, W1, strides=[1,2,2,1],padding = \"SAME\")\n",
    "print(L1.shape) # => (?, 14, 14, 32)\n",
    "L1 = tf.nn.relu(L1)\n",
    "# tf.nn.max_pool(대상Layer, ksize = kernel size [dummy,행,열,dummy], strides = [dummy,행,열,dummy], padding )\n",
    "L1 = tf.nn.max_pool(L1, ksize= [1,2,2,1], strides = [1,2,2,1], padding = \"SAME\")\n",
    "print(L1.shape) # => (?, 7, 7, 32)\n",
    "\n",
    "# convolution한 결과 : 28 x 28의 원본 이미지 1장이 7 x 7 convolution 된 이미지 32장으로 바뀜\n",
    "\n",
    "# 3-2. Convolution layer 2\n",
    "\n",
    "# L1.shape = (?, 14, 14, 32)의 3번 index 값과 tf.random_normal([3,3,32,32])의 2번 index의 값이 같아야 함\n",
    "W2 = tf.Variable(tf.random_normal([3,3,32,64]), name= \"filter2\")\n",
    "L2 = tf.nn.conv2d(L1, W2, strides=[1,1,1,1],padding = \"SAME\")\n",
    "print(L2.shape)\n",
    "L2 = tf.nn.relu(L2)\n",
    "L2 = tf.nn.max_pool(L2,ksize= [1,1,1,1], strides = [1,1,1,1], padding = \"SAME\")\n",
    "print(L2.shape)\n",
    "# convolution한 결과 : 28 x 28의 원본 이미지 1장이 7 x 7 convolution 된 이미지 64장으로 바뀜\n",
    "\n",
    "# Neural network를 이용하려면 2차원 형태로 변환해줘야 함\n",
    "L2 = tf.reshape(L2, [-1,7*7*64])\n",
    "\n",
    "# 4.Neural Network\n",
    "# 4.1 Weight & bias\n",
    "# shape=[\"컬럼수\",256]\n",
    "W3 = tf.get_Variable(\"weight3\",shape=[7*7*64, 256], initializer=tf.contrib.layers.xavier_initializer())\n",
    "b3 = tf.Variable(shape=[256], name = \"bias3\")"
   ]
  }
 ],
 "metadata": {
  "kernelspec": {
   "display_name": "Python [conda env:cpu_env] *",
   "language": "python",
   "name": "conda-env-cpu_env-py"
  },
  "language_info": {
   "codemirror_mode": {
    "name": "ipython",
    "version": 3
   },
   "file_extension": ".py",
   "mimetype": "text/x-python",
   "name": "python",
   "nbconvert_exporter": "python",
   "pygments_lexer": "ipython3",
   "version": "3.6.8"
  }
 },
 "nbformat": 4,
 "nbformat_minor": 2
}
